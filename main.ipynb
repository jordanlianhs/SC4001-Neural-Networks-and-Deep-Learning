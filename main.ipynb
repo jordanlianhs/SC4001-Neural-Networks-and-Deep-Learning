{
 "cells": [
  {
   "cell_type": "markdown",
   "metadata": {},
   "source": [
    "# Main"
   ]
  },
  {
   "cell_type": "markdown",
   "metadata": {},
   "source": [
    "Dataset: MS COCO (lest your GPU has constraints then use Flickr8k/30k let us know)\n",
    "Evaluation: BLEU, METEOR, and CIDEr\n",
    "1. CNN + RNN \n",
    "   1. Untrained CNN + Untrained RNN # This might not give good results due to CNN bottleneck [Irfaan]\n",
    "   2. Untrained CNN + Pretrained RNN # This might not give good results due to CNN bottleneck [Irfaan]\n",
    "   3. Pretrained CNN + Untrained RNN [Jordan]\n",
    "   4. Pretrained CNN + Pretrained RNN [Sufyan]\n",
    "\n",
    "2. CNN + Transformer\n",
    "   1. Untrained CNN + Transformer\n",
    "   2. Pretrained CNN + Transformer\n",
    "\n",
    "3. Making the model better\n",
    "   1. Cross Validation\n",
    "   2. Hyper parameter tuning"
   ]
  },
  {
   "cell_type": "markdown",
   "metadata": {},
   "source": []
  }
 ],
 "metadata": {
  "language_info": {
   "name": "python"
  }
 },
 "nbformat": 4,
 "nbformat_minor": 2
}
